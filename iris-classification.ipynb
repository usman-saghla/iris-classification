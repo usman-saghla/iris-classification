{
 "cells": [
  {
   "cell_type": "code",
   "execution_count": 1,
   "id": "35f093b8",
   "metadata": {
    "execution": {
     "iopub.execute_input": "2025-09-03T19:02:44.962707Z",
     "iopub.status.busy": "2025-09-03T19:02:44.962327Z",
     "iopub.status.idle": "2025-09-03T19:02:48.962002Z",
     "shell.execute_reply": "2025-09-03T19:02:48.961299Z"
    },
    "papermill": {
     "duration": 4.006423,
     "end_time": "2025-09-03T19:02:48.963676",
     "exception": false,
     "start_time": "2025-09-03T19:02:44.957253",
     "status": "completed"
    },
    "tags": []
   },
   "outputs": [],
   "source": [
    "#Load necessary libraries\n",
    "import pandas as pd\n",
    "import numpy as np\n",
    "from sklearn.model_selection import train_test_split\n",
    "from sklearn.linear_model import LogisticRegression\n",
    "import seaborn as sns\n",
    "sns.set_theme(style=\"whitegrid\")\n",
    "import matplotlib.pyplot as plt"
   ]
  },
  {
   "cell_type": "code",
   "execution_count": 2,
   "id": "e3ca417a",
   "metadata": {
    "execution": {
     "iopub.execute_input": "2025-09-03T19:02:48.971764Z",
     "iopub.status.busy": "2025-09-03T19:02:48.971104Z",
     "iopub.status.idle": "2025-09-03T19:02:49.010659Z",
     "shell.execute_reply": "2025-09-03T19:02:49.009773Z"
    },
    "papermill": {
     "duration": 0.044867,
     "end_time": "2025-09-03T19:02:49.012124",
     "exception": false,
     "start_time": "2025-09-03T19:02:48.967257",
     "status": "completed"
    },
    "tags": []
   },
   "outputs": [
    {
     "data": {
      "text/html": [
       "<div>\n",
       "<style scoped>\n",
       "    .dataframe tbody tr th:only-of-type {\n",
       "        vertical-align: middle;\n",
       "    }\n",
       "\n",
       "    .dataframe tbody tr th {\n",
       "        vertical-align: top;\n",
       "    }\n",
       "\n",
       "    .dataframe thead th {\n",
       "        text-align: right;\n",
       "    }\n",
       "</style>\n",
       "<table border=\"1\" class=\"dataframe\">\n",
       "  <thead>\n",
       "    <tr style=\"text-align: right;\">\n",
       "      <th></th>\n",
       "      <th>sepal_length</th>\n",
       "      <th>sepal_width</th>\n",
       "      <th>petal_length</th>\n",
       "      <th>petal_width</th>\n",
       "      <th>species</th>\n",
       "    </tr>\n",
       "  </thead>\n",
       "  <tbody>\n",
       "    <tr>\n",
       "      <th>0</th>\n",
       "      <td>5.1</td>\n",
       "      <td>3.5</td>\n",
       "      <td>1.4</td>\n",
       "      <td>0.2</td>\n",
       "      <td>Iris-setosa</td>\n",
       "    </tr>\n",
       "    <tr>\n",
       "      <th>1</th>\n",
       "      <td>4.9</td>\n",
       "      <td>3.0</td>\n",
       "      <td>1.4</td>\n",
       "      <td>0.2</td>\n",
       "      <td>Iris-setosa</td>\n",
       "    </tr>\n",
       "    <tr>\n",
       "      <th>2</th>\n",
       "      <td>4.7</td>\n",
       "      <td>3.2</td>\n",
       "      <td>1.3</td>\n",
       "      <td>0.2</td>\n",
       "      <td>Iris-setosa</td>\n",
       "    </tr>\n",
       "    <tr>\n",
       "      <th>3</th>\n",
       "      <td>4.6</td>\n",
       "      <td>3.1</td>\n",
       "      <td>1.5</td>\n",
       "      <td>0.2</td>\n",
       "      <td>Iris-setosa</td>\n",
       "    </tr>\n",
       "    <tr>\n",
       "      <th>4</th>\n",
       "      <td>5.0</td>\n",
       "      <td>3.6</td>\n",
       "      <td>1.4</td>\n",
       "      <td>0.2</td>\n",
       "      <td>Iris-setosa</td>\n",
       "    </tr>\n",
       "  </tbody>\n",
       "</table>\n",
       "</div>"
      ],
      "text/plain": [
       "   sepal_length  sepal_width  petal_length  petal_width      species\n",
       "0           5.1          3.5           1.4          0.2  Iris-setosa\n",
       "1           4.9          3.0           1.4          0.2  Iris-setosa\n",
       "2           4.7          3.2           1.3          0.2  Iris-setosa\n",
       "3           4.6          3.1           1.5          0.2  Iris-setosa\n",
       "4           5.0          3.6           1.4          0.2  Iris-setosa"
      ]
     },
     "execution_count": 2,
     "metadata": {},
     "output_type": "execute_result"
    }
   ],
   "source": [
    "#Loading the data set and checking the head\n",
    "data = pd.read_csv('/kaggle/input/iris-classification/iris-classification.csv')\n",
    "data.head()"
   ]
  },
  {
   "cell_type": "code",
   "execution_count": 3,
   "id": "675ab659",
   "metadata": {
    "execution": {
     "iopub.execute_input": "2025-09-03T19:02:49.019745Z",
     "iopub.status.busy": "2025-09-03T19:02:49.019146Z",
     "iopub.status.idle": "2025-09-03T19:02:49.044956Z",
     "shell.execute_reply": "2025-09-03T19:02:49.044133Z"
    },
    "papermill": {
     "duration": 0.031134,
     "end_time": "2025-09-03T19:02:49.046455",
     "exception": false,
     "start_time": "2025-09-03T19:02:49.015321",
     "status": "completed"
    },
    "tags": []
   },
   "outputs": [
    {
     "data": {
      "text/html": [
       "<div>\n",
       "<style scoped>\n",
       "    .dataframe tbody tr th:only-of-type {\n",
       "        vertical-align: middle;\n",
       "    }\n",
       "\n",
       "    .dataframe tbody tr th {\n",
       "        vertical-align: top;\n",
       "    }\n",
       "\n",
       "    .dataframe thead th {\n",
       "        text-align: right;\n",
       "    }\n",
       "</style>\n",
       "<table border=\"1\" class=\"dataframe\">\n",
       "  <thead>\n",
       "    <tr style=\"text-align: right;\">\n",
       "      <th></th>\n",
       "      <th>sepal_length</th>\n",
       "      <th>sepal_width</th>\n",
       "      <th>petal_length</th>\n",
       "      <th>petal_width</th>\n",
       "    </tr>\n",
       "  </thead>\n",
       "  <tbody>\n",
       "    <tr>\n",
       "      <th>count</th>\n",
       "      <td>150.000000</td>\n",
       "      <td>150.000000</td>\n",
       "      <td>150.000000</td>\n",
       "      <td>150.000000</td>\n",
       "    </tr>\n",
       "    <tr>\n",
       "      <th>mean</th>\n",
       "      <td>5.843333</td>\n",
       "      <td>3.054000</td>\n",
       "      <td>3.758667</td>\n",
       "      <td>1.198667</td>\n",
       "    </tr>\n",
       "    <tr>\n",
       "      <th>std</th>\n",
       "      <td>0.828066</td>\n",
       "      <td>0.433594</td>\n",
       "      <td>1.764420</td>\n",
       "      <td>0.763161</td>\n",
       "    </tr>\n",
       "    <tr>\n",
       "      <th>min</th>\n",
       "      <td>4.300000</td>\n",
       "      <td>2.000000</td>\n",
       "      <td>1.000000</td>\n",
       "      <td>0.100000</td>\n",
       "    </tr>\n",
       "    <tr>\n",
       "      <th>25%</th>\n",
       "      <td>5.100000</td>\n",
       "      <td>2.800000</td>\n",
       "      <td>1.600000</td>\n",
       "      <td>0.300000</td>\n",
       "    </tr>\n",
       "    <tr>\n",
       "      <th>50%</th>\n",
       "      <td>5.800000</td>\n",
       "      <td>3.000000</td>\n",
       "      <td>4.350000</td>\n",
       "      <td>1.300000</td>\n",
       "    </tr>\n",
       "    <tr>\n",
       "      <th>75%</th>\n",
       "      <td>6.400000</td>\n",
       "      <td>3.300000</td>\n",
       "      <td>5.100000</td>\n",
       "      <td>1.800000</td>\n",
       "    </tr>\n",
       "    <tr>\n",
       "      <th>max</th>\n",
       "      <td>7.900000</td>\n",
       "      <td>4.400000</td>\n",
       "      <td>6.900000</td>\n",
       "      <td>2.500000</td>\n",
       "    </tr>\n",
       "  </tbody>\n",
       "</table>\n",
       "</div>"
      ],
      "text/plain": [
       "       sepal_length  sepal_width  petal_length  petal_width\n",
       "count    150.000000   150.000000    150.000000   150.000000\n",
       "mean       5.843333     3.054000      3.758667     1.198667\n",
       "std        0.828066     0.433594      1.764420     0.763161\n",
       "min        4.300000     2.000000      1.000000     0.100000\n",
       "25%        5.100000     2.800000      1.600000     0.300000\n",
       "50%        5.800000     3.000000      4.350000     1.300000\n",
       "75%        6.400000     3.300000      5.100000     1.800000\n",
       "max        7.900000     4.400000      6.900000     2.500000"
      ]
     },
     "execution_count": 3,
     "metadata": {},
     "output_type": "execute_result"
    }
   ],
   "source": [
    "#Checking the summary statistics\n",
    "data.describe()"
   ]
  },
  {
   "cell_type": "code",
   "execution_count": 4,
   "id": "2c857735",
   "metadata": {
    "execution": {
     "iopub.execute_input": "2025-09-03T19:02:49.054393Z",
     "iopub.status.busy": "2025-09-03T19:02:49.054107Z",
     "iopub.status.idle": "2025-09-03T19:02:49.060861Z",
     "shell.execute_reply": "2025-09-03T19:02:49.060042Z"
    },
    "papermill": {
     "duration": 0.012341,
     "end_time": "2025-09-03T19:02:49.062334",
     "exception": false,
     "start_time": "2025-09-03T19:02:49.049993",
     "status": "completed"
    },
    "tags": []
   },
   "outputs": [
    {
     "data": {
      "text/plain": [
       "sepal_length    0\n",
       "sepal_width     0\n",
       "petal_length    0\n",
       "petal_width     0\n",
       "species         0\n",
       "dtype: int64"
      ]
     },
     "execution_count": 4,
     "metadata": {},
     "output_type": "execute_result"
    }
   ],
   "source": [
    "#Checking if any null values exist\n",
    "data.isnull().sum()"
   ]
  },
  {
   "cell_type": "code",
   "execution_count": 5,
   "id": "ee630fb7",
   "metadata": {
    "execution": {
     "iopub.execute_input": "2025-09-03T19:02:49.070240Z",
     "iopub.status.busy": "2025-09-03T19:02:49.069568Z",
     "iopub.status.idle": "2025-09-03T19:02:49.077424Z",
     "shell.execute_reply": "2025-09-03T19:02:49.076738Z"
    },
    "papermill": {
     "duration": 0.012985,
     "end_time": "2025-09-03T19:02:49.078682",
     "exception": false,
     "start_time": "2025-09-03T19:02:49.065697",
     "status": "completed"
    },
    "tags": []
   },
   "outputs": [],
   "source": [
    "#Declaring the features and target variables\n",
    "y = data['species']\n",
    "x = data[['sepal_length', 'sepal_width', 'petal_length', 'petal_width']]"
   ]
  },
  {
   "cell_type": "code",
   "execution_count": 6,
   "id": "33436c06",
   "metadata": {
    "execution": {
     "iopub.execute_input": "2025-09-03T19:02:49.087073Z",
     "iopub.status.busy": "2025-09-03T19:02:49.086371Z",
     "iopub.status.idle": "2025-09-03T19:02:49.554810Z",
     "shell.execute_reply": "2025-09-03T19:02:49.553931Z"
    },
    "papermill": {
     "duration": 0.474866,
     "end_time": "2025-09-03T19:02:49.557075",
     "exception": false,
     "start_time": "2025-09-03T19:02:49.082209",
     "status": "completed"
    },
    "tags": []
   },
   "outputs": [
    {
     "data": {
      "image/png": "[encoded data removed]",
      "text/plain": [
       "<Figure size 1000x600 with 1 Axes>"
      ]
     },
     "metadata": {},
     "output_type": "display_data"
    }
   ],
   "source": [
    "#Plotting the data onto scatter plots to visualize\n",
    "plt.figure(figsize=(10,6))\n",
    "sns.scatterplot(data=data, x='sepal_length', y='sepal_width', hue='species', s=100)\n",
    "plt.title('Sepal Length vs Sepal Width')\n",
    "plt.show()"
   ]
  },
  {
   "cell_type": "code",
   "execution_count": 7,
   "id": "42ce27ea",
   "metadata": {
    "execution": {
     "iopub.execute_input": "2025-09-03T19:02:49.570134Z",
     "iopub.status.busy": "2025-09-03T19:02:49.569425Z",
     "iopub.status.idle": "2025-09-03T19:02:49.575959Z",
     "shell.execute_reply": "2025-09-03T19:02:49.575117Z"
    },
    "papermill": {
     "duration": 0.014673,
     "end_time": "2025-09-03T19:02:49.577472",
     "exception": false,
     "start_time": "2025-09-03T19:02:49.562799",
     "status": "completed"
    },
    "tags": []
   },
   "outputs": [],
   "source": [
    "#Splitting the data into training and testing sets\n",
    "x_train, x_test, y_train, y_test = train_test_split(x, y, test_size=0.2, random_state=42)"
   ]
  },
  {
   "cell_type": "code",
   "execution_count": 8,
   "id": "4ec9edc1",
   "metadata": {
    "execution": {
     "iopub.execute_input": "2025-09-03T19:02:49.588382Z",
     "iopub.status.busy": "2025-09-03T19:02:49.588041Z",
     "iopub.status.idle": "2025-09-03T19:02:49.632413Z",
     "shell.execute_reply": "2025-09-03T19:02:49.630399Z"
    },
    "papermill": {
     "duration": 0.051896,
     "end_time": "2025-09-03T19:02:49.634293",
     "exception": false,
     "start_time": "2025-09-03T19:02:49.582397",
     "status": "completed"
    },
    "tags": []
   },
   "outputs": [
    {
     "name": "stdout",
     "output_type": "stream",
     "text": [
      "Model training complete.\n"
     ]
    }
   ],
   "source": [
    "#Creating and training the model\n",
    "model = LogisticRegression(max_iter=200)\n",
    "model.fit(x_train, y_train)\n",
    "print(\"Model training complete.\")"
   ]
  },
  {
   "cell_type": "code",
   "execution_count": 9,
   "id": "b134dd3e",
   "metadata": {
    "execution": {
     "iopub.execute_input": "2025-09-03T19:02:49.650857Z",
     "iopub.status.busy": "2025-09-03T19:02:49.650534Z",
     "iopub.status.idle": "2025-09-03T19:02:49.666675Z",
     "shell.execute_reply": "2025-09-03T19:02:49.664787Z"
    },
    "papermill": {
     "duration": 0.026858,
     "end_time": "2025-09-03T19:02:49.668705",
     "exception": false,
     "start_time": "2025-09-03T19:02:49.641847",
     "status": "completed"
    },
    "tags": []
   },
   "outputs": [
    {
     "name": "stdout",
     "output_type": "stream",
     "text": [
      "      Actual species Predicted species\n",
      "73   Iris-versicolor   Iris-versicolor\n",
      "18       Iris-setosa       Iris-setosa\n",
      "118   Iris-virginica    Iris-virginica\n",
      "78   Iris-versicolor   Iris-versicolor\n",
      "76   Iris-versicolor   Iris-versicolor\n"
     ]
    }
   ],
   "source": [
    "#making predictions on the test set\n",
    "predictions = model.predict(x_test)\n",
    "results = pd.DataFrame({'Actual species': y_test, 'Predicted species': predictions})\n",
    "print(results.head())"
   ]
  },
  {
   "cell_type": "code",
   "execution_count": 10,
   "id": "1b42bb62",
   "metadata": {
    "execution": {
     "iopub.execute_input": "2025-09-03T19:02:49.685268Z",
     "iopub.status.busy": "2025-09-03T19:02:49.684927Z",
     "iopub.status.idle": "2025-09-03T19:02:49.704926Z",
     "shell.execute_reply": "2025-09-03T19:02:49.704210Z"
    },
    "papermill": {
     "duration": 0.030329,
     "end_time": "2025-09-03T19:02:49.706728",
     "exception": false,
     "start_time": "2025-09-03T19:02:49.676399",
     "status": "completed"
    },
    "tags": []
   },
   "outputs": [
    {
     "name": "stdout",
     "output_type": "stream",
     "text": [
      "Model Accuracy: 100.00%\n",
      "\n",
      "Classification Report:\n",
      "                  precision    recall  f1-score   support\n",
      "\n",
      "    Iris-setosa       1.00      1.00      1.00        10\n",
      "Iris-versicolor       1.00      1.00      1.00         9\n",
      " Iris-virginica       1.00      1.00      1.00        11\n",
      "\n",
      "       accuracy                           1.00        30\n",
      "      macro avg       1.00      1.00      1.00        30\n",
      "   weighted avg       1.00      1.00      1.00        30\n",
      "\n",
      "Confusion Matrix:\n",
      " [[10  0  0]\n",
      " [ 0  9  0]\n",
      " [ 0  0 11]]\n"
     ]
    }
   ],
   "source": [
    "#Checking the accuracy of the model\n",
    "from sklearn.metrics import accuracy_score, classification_report, confusion_matrix\n",
    "accuracy = accuracy_score(y_test, predictions)\n",
    "print(f\"Model Accuracy: {accuracy*100:.2f}%\")\n",
    "print(\"\\nClassification Report:\\n\", classification_report(y_test, predictions))\n",
    "print(\"Confusion Matrix:\\n\", confusion_matrix(y_test, predictions))"
   ]
  },
  {
   "cell_type": "code",
   "execution_count": 11,
   "id": "b74195ca",
   "metadata": {
    "execution": {
     "iopub.execute_input": "2025-09-03T19:02:49.724127Z",
     "iopub.status.busy": "2025-09-03T19:02:49.723759Z",
     "iopub.status.idle": "2025-09-03T19:02:49.972677Z",
     "shell.execute_reply": "2025-09-03T19:02:49.971803Z"
    },
    "papermill": {
     "duration": 0.259192,
     "end_time": "2025-09-03T19:02:49.974205",
     "exception": false,
     "start_time": "2025-09-03T19:02:49.715013",
     "status": "completed"
    },
    "tags": []
   },
   "outputs": [
    {
     "data": {
      "image/png": "[encoded data removed]",
      "text/plain": [
       "<Figure size 800x600 with 2 Axes>"
      ]
     },
     "metadata": {},
     "output_type": "display_data"
    }
   ],
   "source": [
    "#Visualizing the confusion matrix\n",
    "plt.figure(figsize=(8,6))\n",
    "sns.heatmap(confusion_matrix(y_test, predictions), annot=True, fmt='d', cmap='Blues', xticklabels=model.classes_, yticklabels=model.classes_)\n",
    "plt.xlabel('Predicted')\n",
    "plt.ylabel('Actual')\n",
    "plt.title('Confusion Matrix')\n",
    "plt.show()"
   ]
  },
  {
   "cell_type": "markdown",
   "id": "8e48efc6",
   "metadata": {
    "papermill": {
     "duration": 0.005337,
     "end_time": "2025-09-03T19:02:49.986175",
     "exception": false,
     "start_time": "2025-09-03T19:02:49.980838",
     "status": "completed"
    },
    "tags": []
   },
   "source": [
    "## Predict Iris Species Using Manual Input\n",
    "You can manually set the values for sepal length, sepal width, petal length, and petal width in the next code cell to get a prediction from the model."
   ]
  },
  {
   "cell_type": "code",
   "execution_count": 12,
   "id": "920be6e3",
   "metadata": {
    "execution": {
     "iopub.execute_input": "2025-09-03T19:02:49.998628Z",
     "iopub.status.busy": "2025-09-03T19:02:49.998067Z",
     "iopub.status.idle": "2025-09-03T19:02:50.006050Z",
     "shell.execute_reply": "2025-09-03T19:02:50.005199Z"
    },
    "papermill": {
     "duration": 0.015835,
     "end_time": "2025-09-03T19:02:50.007530",
     "exception": false,
     "start_time": "2025-09-03T19:02:49.991695",
     "status": "completed"
    },
    "tags": []
   },
   "outputs": [
    {
     "name": "stdout",
     "output_type": "stream",
     "text": [
      "Predicted Species: Iris-virginica\n"
     ]
    }
   ],
   "source": [
    "import pandas as pd\n",
    "\n",
    "# Manually input feature values for prediction\n",
    "sepal_length = 8.0\n",
    "sepal_width = 0.9\n",
    "petal_length = 9.5\n",
    "petal_width = 5.5\n",
    "\n",
    "# Create a DataFrame with the feature names\n",
    "input_df = pd.DataFrame({\n",
    "    'sepal_length': [sepal_length],\n",
    "    'sepal_width': [sepal_width],\n",
    "    'petal_length': [petal_length],\n",
    "    'petal_width': [petal_width]\n",
    "})\n",
    "\n",
    "predicted_species = model.predict(input_df)[0]\n",
    "print(f\"Predicted Species: {predicted_species}\")\n",
    "\n"
   ]
  },
  {
   "cell_type": "code",
   "execution_count": 13,
   "id": "d65c5dcb",
   "metadata": {
    "execution": {
     "iopub.execute_input": "2025-09-03T19:02:50.019734Z",
     "iopub.status.busy": "2025-09-03T19:02:50.019187Z",
     "iopub.status.idle": "2025-09-03T19:02:50.039901Z",
     "shell.execute_reply": "2025-09-03T19:02:50.038913Z"
    },
    "papermill": {
     "duration": 0.028272,
     "end_time": "2025-09-03T19:02:50.041325",
     "exception": false,
     "start_time": "2025-09-03T19:02:50.013053",
     "status": "completed"
    },
    "tags": []
   },
   "outputs": [
    {
     "name": "stdout",
     "output_type": "stream",
     "text": [
      "==================================================\n",
      "MANUAL PREDICTION ACCURACY ANALYSIS\n",
      "==================================================\n",
      "Testing multiple manual predictions:\n",
      "----------------------------------------\n",
      "Test 1: [9.1, 1.5, 6.4, 2.2]\n",
      "  Expected: Iris-setosa\n",
      "  Predicted: Iris-virginica\n",
      "  Confidence: 98.82%\n",
      "  Correct: ✗\n",
      "\n",
      "Test 2: [7.0, 3.2, 4.7, 1.4]\n",
      "  Expected: Iris-versicolor\n",
      "  Predicted: Iris-versicolor\n",
      "  Confidence: 85.91%\n",
      "  Correct: ✓\n",
      "\n",
      "Test 3: [6.3, 3.3, 6.0, 2.5]\n",
      "  Expected: Iris-virginica\n",
      "  Predicted: Iris-virginica\n",
      "  Confidence: 99.33%\n",
      "  Correct: ✓\n",
      "\n",
      "Test 4: [4.9, 3.0, 1.4, 0.2]\n",
      "  Expected: Iris-setosa\n",
      "  Predicted: Iris-setosa\n",
      "  Confidence: 96.53%\n",
      "  Correct: ✓\n",
      "\n",
      "Test 5: [6.4, 3.2, 4.5, 1.5]\n",
      "  Expected: Iris-versicolor\n",
      "  Predicted: Iris-versicolor\n",
      "  Confidence: 84.71%\n",
      "  Correct: ✓\n",
      "\n",
      "Manual Prediction Accuracy: 80.00% (4/5)\n",
      "Model Test Set Accuracy: 100.00%\n"
     ]
    }
   ],
   "source": [
    "# Additional accuracy analysis for manual predictions\n",
    "print(\"=\"*50)\n",
    "print(\"MANUAL PREDICTION ACCURACY ANALYSIS\")\n",
    "print(\"=\"*50)\n",
    "\n",
    "# Test the model with multiple manual inputs to show accuracy\n",
    "test_manual_inputs = [\n",
    "    [9.1, 1.5, 6.4, 2.2],  # Iris-setosa\n",
    "    [7.0, 3.2, 4.7, 1.4],  # Iris-versicolor  \n",
    "    [6.3, 3.3, 6.0, 2.5],  # Iris-virginica\n",
    "    [4.9, 3.0, 1.4, 0.2],  # Iris-setosa\n",
    "    [6.4, 3.2, 4.5, 1.5]   # Iris-versicolor\n",
    "]\n",
    "\n",
    "expected_species = ['Iris-setosa', 'Iris-versicolor', 'Iris-virginica', 'Iris-setosa', 'Iris-versicolor']\n",
    "\n",
    "print(\"Testing multiple manual predictions:\")\n",
    "print(\"-\" * 40)\n",
    "\n",
    "correct_predictions = 0\n",
    "total_predictions = len(test_manual_inputs)\n",
    "\n",
    "for i, (features, expected) in enumerate(zip(test_manual_inputs, expected_species)):\n",
    "    # Create DataFrame for prediction\n",
    "    test_df = pd.DataFrame({\n",
    "        'sepal_length': [features[0]],\n",
    "        'sepal_width': [features[1]], \n",
    "        'petal_length': [features[2]],\n",
    "        'petal_width': [features[3]]\n",
    "    })\n",
    "    \n",
    "    # Get prediction and probability\n",
    "    predicted = model.predict(test_df)[0]\n",
    "    probability = model.predict_proba(test_df)[0]\n",
    "    confidence = max(probability) * 100\n",
    "    \n",
    "    # Check if prediction is correct\n",
    "    is_correct = predicted == expected\n",
    "    if is_correct:\n",
    "        correct_predictions += 1\n",
    "    \n",
    "    print(f\"Test {i+1}: {features}\")\n",
    "    print(f\"  Expected: {expected}\")\n",
    "    print(f\"  Predicted: {predicted}\")\n",
    "    print(f\"  Confidence: {confidence:.2f}%\")\n",
    "    print(f\"  Correct: {'✓' if is_correct else '✗'}\")\n",
    "    print()\n",
    "\n",
    "# Calculate manual prediction accuracy\n",
    "manual_accuracy = (correct_predictions / total_predictions) * 100\n",
    "print(f\"Manual Prediction Accuracy: {manual_accuracy:.2f}% ({correct_predictions}/{total_predictions})\")\n",
    "print(f\"Model Test Set Accuracy: {accuracy*100:.2f}%\")\n"
   ]
  }
 ],
 "metadata": {
  "kaggle": {
   "accelerator": "none",
   "dataSources": [
    {
     "datasetId": 8197956,
     "sourceId": 12953599,
     "sourceType": "datasetVersion"
    }
   ],
   "dockerImageVersionId": 31089,
   "isGpuEnabled": false,
   "isInternetEnabled": false,
   "language": "python",
   "sourceType": "notebook"
  },
  "kernelspec": {
   "display_name": "Python 3",
   "language": "python",
   "name": "python3"
  },
  "language_info": {
   "codemirror_mode": {
    "name": "ipython",
    "version": 3
   },
   "file_extension": ".py",
   "mimetype": "text/x-python",
   "name": "python",
   "nbconvert_exporter": "python",
   "pygments_lexer": "ipython3",
   "version": "3.11.13"
  },
  "papermill": {
   "default_parameters": {},
   "duration": 10.943809,
   "end_time": "2025-09-03T19:02:50.766043",
   "environment_variables": {},
   "exception": null,
   "input_path": "__notebook__.ipynb",
   "output_path": "__notebook__.ipynb",
   "parameters": {},
   "start_time": "2025-09-03T19:02:39.822234",
   "version": "2.6.0"
  }
 },
 "nbformat": 4,
 "nbformat_minor": 5
}
